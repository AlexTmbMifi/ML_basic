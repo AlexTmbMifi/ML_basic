{
 "cells": [
  {
   "cell_type": "code",
   "execution_count": 1,
   "metadata": {},
   "outputs": [],
   "source": [
    "import pandas as pd\n",
    "import numpy as np \n",
    "import seaborn as sns\n",
    "import matplotlib.pyplot as plt"
   ]
  },
  {
   "cell_type": "code",
   "execution_count": 2,
   "metadata": {},
   "outputs": [],
   "source": [
    "# Указываем среднее значение, среднеквадратическое отклонение и количество сэмплов\n",
    "\n",
    "def create_ages(mu=50,sigma=13,num_samples=100,seed=42):\n",
    "\n",
    "    # Указываем значение random seed в той же ячейке, что и вызов метода random - \n",
    "    # это нужно для того, чтобы получить те же самые данные\n",
    "    # Мы используем значение 42 (42 это число из комедийного сериала Автостопом по Галактике - \n",
    "    # Hitchhiker's Guide to the Galaxy)\n",
    "    np.random.seed(seed)\n",
    "\n",
    "    sample_ages = np.random.normal(loc=mu,scale=sigma,size=num_samples)\n",
    "    sample_ages = np.round(sample_ages,decimals=0)\n",
    "    \n",
    "    return sample_ages"
   ]
  },
  {
   "cell_type": "code",
   "execution_count": 3,
   "metadata": {},
   "outputs": [],
   "source": [
    "sample = create_ages()"
   ]
  },
  {
   "cell_type": "code",
   "execution_count": 4,
   "metadata": {},
   "outputs": [
    {
     "data": {
      "text/plain": [
       "array([56., 48., 58., 70., 47., 47., 71., 60., 44., 57., 44., 44., 53.,\n",
       "       25., 28., 43., 37., 54., 38., 32., 69., 47., 51., 31., 43., 51.,\n",
       "       35., 55., 42., 46., 42., 74., 50., 36., 61., 34., 53., 25., 33.,\n",
       "       53., 60., 52., 48., 46., 31., 41., 44., 64., 54., 27., 54., 45.,\n",
       "       41., 58., 63., 62., 39., 46., 54., 63., 44., 48., 36., 34., 61.,\n",
       "       68., 49., 63., 55., 42., 55., 70., 50., 70., 16., 61., 51., 46.,\n",
       "       51., 24., 47., 55., 69., 43., 39., 43., 62., 54., 43., 57., 51.,\n",
       "       63., 41., 46., 45., 31., 54., 53., 50., 47.])"
      ]
     },
     "execution_count": 4,
     "metadata": {},
     "output_type": "execute_result"
    }
   ],
   "source": [
    "sample"
   ]
  },
  {
   "cell_type": "code",
   "execution_count": 5,
   "metadata": {},
   "outputs": [
    {
     "data": {
      "text/plain": [
       "<Axes: >"
      ]
     },
     "execution_count": 5,
     "metadata": {},
     "output_type": "execute_result"
    },
    {
     "data": {
      "image/png": "[encoded data removed]",
      "text/plain": [
       "<Figure size 640x480 with 1 Axes>"
      ]
     },
     "metadata": {},
     "output_type": "display_data"
    }
   ],
   "source": [
    "sns.boxplot(sample)"
   ]
  },
  {
   "cell_type": "code",
   "execution_count": 7,
   "metadata": {},
   "outputs": [
    {
     "data": {
      "text/plain": [
       "count    100.00000\n",
       "mean      48.66000\n",
       "std       11.82039\n",
       "min       16.00000\n",
       "25%       42.00000\n",
       "50%       48.00000\n",
       "75%       55.25000\n",
       "max       74.00000\n",
       "dtype: float64"
      ]
     },
     "execution_count": 7,
     "metadata": {},
     "output_type": "execute_result"
    }
   ],
   "source": [
    "df = pd.Series(data=sample)\n",
    "df.describe()"
   ]
  },
  {
   "cell_type": "code",
   "execution_count": 8,
   "metadata": {},
   "outputs": [
    {
     "data": {
      "text/plain": [
       "22.125"
      ]
     },
     "execution_count": 8,
     "metadata": {},
     "output_type": "execute_result"
    }
   ],
   "source": [
    "IQR = 55.25000 - 42.00000\n",
    "lower_limit = 42.00000 - 1.5*IQR\n",
    "lower_limit"
   ]
  },
  {
   "cell_type": "code",
   "execution_count": 9,
   "metadata": {},
   "outputs": [
    {
     "data": {
      "text/plain": [
       "0     56.0\n",
       "1     48.0\n",
       "2     58.0\n",
       "3     70.0\n",
       "4     47.0\n",
       "      ... \n",
       "95    31.0\n",
       "96    54.0\n",
       "97    53.0\n",
       "98    50.0\n",
       "99    47.0\n",
       "Length: 99, dtype: float64"
      ]
     },
     "execution_count": 9,
     "metadata": {},
     "output_type": "execute_result"
    }
   ],
   "source": [
    "df[df >= lower_limit] # убрали выброс из данных"
   ]
  },
  {
   "cell_type": "code",
   "execution_count": 10,
   "metadata": {},
   "outputs": [
    {
     "data": {
      "text/plain": [
       "array([55.25])"
      ]
     },
     "execution_count": 10,
     "metadata": {},
     "output_type": "execute_result"
    }
   ],
   "source": [
    "np.percentile(sample, [75]) # получение значений программно, не вручную"
   ]
  }
 ],
 "metadata": {
  "kernelspec": {
   "display_name": "Python 3",
   "language": "python",
   "name": "python3"
  },
  "language_info": {
   "codemirror_mode": {
    "name": "ipython",
    "version": 3
   },
   "file_extension": ".py",
   "mimetype": "text/x-python",
   "name": "python",
   "nbconvert_exporter": "python",
   "pygments_lexer": "ipython3",
   "version": "3.11.3"
  },
  "orig_nbformat": 4
 },
 "nbformat": 4,
 "nbformat_minor": 2
}
