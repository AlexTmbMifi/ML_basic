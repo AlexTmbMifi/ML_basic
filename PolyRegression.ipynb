{
 "cells": [
  {
   "cell_type": "code",
   "execution_count": 12,
   "id": "bfd2df9b",
   "metadata": {},
   "outputs": [],
   "source": [
    "from sklearn.preprocessing import PolynomialFeatures # создание полиномиальных признаков\n",
    "import pandas as pd\n",
    "import seaborn as sns\n",
    "import numpy as np\n",
    "import matplotlib.pyplot as plt"
   ]
  },
  {
   "cell_type": "code",
   "execution_count": 13,
   "id": "b48590fd",
   "metadata": {},
   "outputs": [],
   "source": [
    "# Полиномиальная регрессия решает две задачи\n",
    "# Нелинейная взаимосвязь признака и целевой переменной\n",
    "# Взаимодействие признаков"
   ]
  },
  {
   "cell_type": "code",
   "execution_count": 14,
   "id": "0a229130",
   "metadata": {},
   "outputs": [],
   "source": [
    "df = pd.read_csv('Advertising.csv')\n",
    "X = df.drop('sales', axis=1)\n",
    "y = df['sales']"
   ]
  },
  {
   "cell_type": "code",
   "execution_count": 15,
   "id": "3a5719c1",
   "metadata": {},
   "outputs": [],
   "source": [
    "polynomial_converver = PolynomialFeatures(degree=2, include_bias=False) # include_bias=False - модель без intercept, degree - макс.степень признака"
   ]
  },
  {
   "cell_type": "code",
   "execution_count": 16,
   "id": "ffb87e0a",
   "metadata": {},
   "outputs": [],
   "source": [
    "# Всё это делается до обучения модели"
   ]
  },
  {
   "cell_type": "code",
   "execution_count": 17,
   "id": "2f537a7b",
   "metadata": {},
   "outputs": [],
   "source": [
    "polynomial_converver.fit(X) # анализ признаков\n",
    "polynomial_features = polynomial_converver.transform(X)"
   ]
  },
  {
   "cell_type": "code",
   "execution_count": 18,
   "id": "4b225c6b",
   "metadata": {},
   "outputs": [
    {
     "data": {
      "text/plain": [
       "TV           230.1\n",
       "radio         37.8\n",
       "newspaper     69.2\n",
       "sales         22.1\n",
       "Name: 0, dtype: float64"
      ]
     },
     "execution_count": 18,
     "metadata": {},
     "output_type": "execute_result"
    }
   ],
   "source": [
    "df.iloc[0]"
   ]
  },
  {
   "cell_type": "code",
   "execution_count": 19,
   "id": "ae8946d3",
   "metadata": {},
   "outputs": [
    {
     "data": {
      "text/plain": [
       "array([2.301000e+02, 3.780000e+01, 6.920000e+01, 5.294601e+04,\n",
       "       8.697780e+03, 1.592292e+04, 1.428840e+03, 2.615760e+03,\n",
       "       4.788640e+03])"
      ]
     },
     "execution_count": 19,
     "metadata": {},
     "output_type": "execute_result"
    }
   ],
   "source": [
    "polynomial_features[0] # видно, что первая три значения соотвествует первой строке из df\n",
    "# остальное - произведение признаков и их квадраты.\n",
    "# расположение не по порядку, но это не столь важно"
   ]
  },
  {
   "cell_type": "code",
   "execution_count": 20,
   "id": "d568f241",
   "metadata": {},
   "outputs": [
    {
     "data": {
      "text/plain": [
       "array([[ 230.1 ,   37.8 ,   69.2 , ..., 1428.84, 2615.76, 4788.64],\n",
       "       [  44.5 ,   39.3 ,   45.1 , ..., 1544.49, 1772.43, 2034.01],\n",
       "       [  17.2 ,   45.9 ,   69.3 , ..., 2106.81, 3180.87, 4802.49],\n",
       "       ...,\n",
       "       [ 177.  ,    9.3 ,    6.4 , ...,   86.49,   59.52,   40.96],\n",
       "       [ 283.6 ,   42.  ,   66.2 , ..., 1764.  , 2780.4 , 4382.44],\n",
       "       [ 232.1 ,    8.6 ,    8.7 , ...,   73.96,   74.82,   75.69]])"
      ]
     },
     "execution_count": 20,
     "metadata": {},
     "output_type": "execute_result"
    }
   ],
   "source": [
    "polynomial_converver.fit_transform(X) # создание признаков за одну операцию"
   ]
  }
 ],
 "metadata": {
  "kernelspec": {
   "display_name": "myenv",
   "language": "python",
   "name": "python3"
  },
  "language_info": {
   "codemirror_mode": {
    "name": "ipython",
    "version": 3
   },
   "file_extension": ".py",
   "mimetype": "text/x-python",
   "name": "python",
   "nbconvert_exporter": "python",
   "pygments_lexer": "ipython3",
   "version": "3.11.9"
  }
 },
 "nbformat": 4,
 "nbformat_minor": 5
}
